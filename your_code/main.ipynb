{
 "cells": [
  {
   "cell_type": "code",
   "execution_count": 1,
   "metadata": {},
   "outputs": [
    {
     "data": {
      "text/plain": [
       "'from scipy import stats\\nimport numpy as np\\nimport math\\nimport pandas as pd\\nimport matplotlib.pyplot as plt\\nfrom scipy.stats import uniform\\nfrom scipy.stats import norm\\nfrom scipy.stats import expon\\nfrom scipy.stats import bernoulli\\nfrom scipy.stats import binom\\nfrom scipy.stats import geom\\nfrom scipy.stats import poisson\\nfrom scipy.stats import skew\\nimport scipy.stats\\nfrom prettytable import PrettyTable'"
      ]
     },
     "execution_count": 1,
     "metadata": {},
     "output_type": "execute_result"
    }
   ],
   "source": [
    "# your answer here\n",
    "import math\n",
    "import numpy as np\n",
    "import pandas as pd\n",
    "import matplotlib.pyplot as plt\n",
    "from scipy import stats\n",
    "from scipy.stats import bernoulli\n",
    "from scipy.stats import norm\n",
    "from scipy.stats import geom\n",
    "from scipy.stats import binom\n",
    "from scipy.stats import poisson\n",
    "\n",
    "'''from scipy import stats\n",
    "import numpy as np\n",
    "import math\n",
    "import pandas as pd\n",
    "import matplotlib.pyplot as plt\n",
    "from scipy.stats import uniform\n",
    "from scipy.stats import norm\n",
    "from scipy.stats import expon\n",
    "from scipy.stats import bernoulli\n",
    "from scipy.stats import binom\n",
    "from scipy.stats import geom\n",
    "from scipy.stats import poisson\n",
    "from scipy.stats import skew\n",
    "import scipy.stats\n",
    "from prettytable import PrettyTable'''"
   ]
  },
  {
   "cell_type": "markdown",
   "metadata": {},
   "source": [
    "## Question 1\n",
    "The following table indicates the number of 6-point scores in an American rugby match in the 1979 season.\n",
    "\n",
    "![](table1.png)\n",
    "\n",
    "Based on these results, we create a Poisson distribution with the sample mean parameter  = 2.435. Is there any reason to believe that at a .05 level the number of scores is a Poisson variable?"
   ]
  },
  {
   "cell_type": "code",
   "execution_count": 5,
   "metadata": {},
   "outputs": [
    {
     "name": "stdout",
     "output_type": "stream",
     "text": [
      "Power_divergenceResult(statistic=6.491310681109821, pvalue=0.4836889068537269)\n"
     ]
    },
    {
     "data": {
      "text/plain": [
       "'\\nWe cannot reject the H0 for which the observed distribution follows a Poisson distribution\\n'"
      ]
     },
     "execution_count": 5,
     "metadata": {},
     "output_type": "execute_result"
    }
   ],
   "source": [
    "#Defining variables:\n",
    "val = np.array([0,1,2,3,4,5,6,7])\n",
    "obs = np.array([35,99,104,110,62,25,10,3])\n",
    "mean_par = 2.435\n",
    "\n",
    "#Analysis:\n",
    "prob_1to6 = stats.poisson.pmf(val[:-1], mean_par)\n",
    "prob_tot = np.append(prob_1to6,(1 - np.sum(prob_1to6))) #to take into account 7 or more...\n",
    "exp = prob_tot * np.sum(obs) #expected values\n",
    "chi_test = stats.chisquare(obs, f_exp = exp)\n",
    "print(chi_test)\n",
    "\n",
    "\"\"\"\n",
    "We cannot reject the H0, because our p-value is greater than 0.05, so we conclude that the data follows a Poisson distribution.\n",
    "\"\"\""
   ]
  },
  {
   "cell_type": "markdown",
   "metadata": {},
   "source": [
    "## Question 2\n",
    "The following are the ordered values of a random sample of SAT scores (university entrance exam) for several students: 852, 875, 910, 933, 957, 963, 981, 998, 1010, 1015, 1018, 1023, 1035, 1048, 1063. In previous years, the scores were presented by N (985,50). Based on the sample, is there any reason to believe that there has been a change in the distribution of scores this year? Use the level alpha = 0.05. "
   ]
  },
  {
   "cell_type": "code",
   "execution_count": 6,
   "metadata": {},
   "outputs": [
    {
     "data": {
      "text/plain": [
       "Power_divergenceResult(statistic=122.34042276498104, pvalue=2.187935511835934e-19)"
      ]
     },
     "execution_count": 6,
     "metadata": {},
     "output_type": "execute_result"
    }
   ],
   "source": [
    "#Defining variables:\n",
    "obs_scores = np.array([852, 875, 910, 933, 957, 963, 981, 998, 1010, 1015, 1018, 1023, 1035, 1048, 1063])\n",
    "Nrm  = stats.norm(985, 50)\n",
    "exp_scores = Nrm.rvs(size = len((obs_scores)))\n",
    "\n",
    "stats.chisquare(obs_scores, f_exp = exp_scores)\n",
    "\n",
    "#Yes, there was a change, because our p-value os lower than 0.05, which means that we reject the H0."
   ]
  },
  {
   "cell_type": "markdown",
   "metadata": {},
   "source": [
    "## Question 3\n",
    "Let's analyze a discrete distribution. To analyze the number of defective items in a factory in the city of Medellín, we took a random sample of n = 60 articles and observed the number of defectives in the following table:\n",
    "\n",
    "![](table2.png)\n",
    "\n",
    "A poissón distribution was proposed since it is defined for x = 0,1,2,3, .... using the following model:\n",
    "\n",
    "![](image1.png)\n",
    "\n",
    "Does the distribution of defective items follow this distribution?"
   ]
  },
  {
   "cell_type": "code",
   "execution_count": 7,
   "metadata": {},
   "outputs": [
    {
     "name": "stdout",
     "output_type": "stream",
     "text": [
      "Power_divergenceResult(statistic=27.06412421293041, pvalue=5.7079023873077714e-06)\n"
     ]
    },
    {
     "data": {
      "text/plain": [
       "'\\nWe CAN reject the null hypothesis, the data follows a Poisson distribution.\\n'"
      ]
     },
     "execution_count": 7,
     "metadata": {},
     "output_type": "execute_result"
    }
   ],
   "source": [
    "#Defining variables:\n",
    "val = np.array([0, 1, 3, 4])\n",
    "obs = np.array([32, 15, 9, 4])\n",
    "\n",
    "#Analysis:\n",
    "mu = np.average(val,weights = obs) #takes weighted average of the values based on frequency\n",
    "exp = stats.poisson.pmf(val,mu) *np.sum(obs)\n",
    "chi_test = stats.chisquare(obs, f_exp = exp)\n",
    "print(chi_test)\n",
    "\"\"\"\n",
    "We reject the null hypothesis, the data follows a Poisson distribution.\n",
    "\"\"\""
   ]
  },
  {
   "cell_type": "markdown",
   "metadata": {},
   "source": [
    "## Question 4\n",
    "A quality control engineer takes a sample of 10 tires that come out of an assembly line, and would like to verify on the basis of the data that follows, if the number of tires with defects observed over 200 days, if it is true that 5% of all tires have defects (that is, if the sample comes from a binomial population with n = 10 and p = 0.05). \n",
    "\n",
    "![](table3.png)\n"
   ]
  },
  {
   "cell_type": "code",
   "execution_count": 10,
   "metadata": {},
   "outputs": [
    {
     "name": "stdout",
     "output_type": "stream",
     "text": [
      "Power_divergenceResult(statistic=8.30617951954273, pvalue=0.015715783395951474)\n"
     ]
    },
    {
     "data": {
      "text/plain": [
       "'\\nWe can reject H0, our data does follow a binomial distribution.\\nThis is valid at 95% significance, but not at 99%.\\n'"
      ]
     },
     "execution_count": 10,
     "metadata": {},
     "output_type": "execute_result"
    }
   ],
   "source": [
    "#Defining variables:\n",
    "p = 0.05\n",
    "n= 10\n",
    "val = np.array([0, 1, 2])\n",
    "obs = np.array([138, 53, 9])\n",
    "\n",
    "#Analysis:\n",
    "prob_0to1 = stats.binom.pmf(val[:-1],n,p)\n",
    "prob_tot = np.append(prob_0to1,(1-np.sum(prob_0to1))) #to take into account 2 or more...\n",
    "exp = prob_tot *np.sum(obs) # expected values\n",
    "\n",
    "print(stats.chisquare(obs, f_exp = exp))\n",
    "\n",
    "\"\"\"\n",
    "We can reject H0, our data does follow a binomial distribution.\n",
    "This is valid at 95% significance, but not at 99%.\n",
    "\"\"\""
   ]
  },
  {
   "cell_type": "markdown",
   "metadata": {},
   "source": [
    "## Question 5\n",
    "A researcher gathers information about the patterns of Physical Activity of children in the fifth grade of primary school of a public school. He defines three categories of physical activity (Low, Medium, High). He also inquires about the regular consumption of sugary drinks at school, and defines two categories (Yes = consumed, No = not consumed). We would like to evaluate if there is an association between patterns of physical activity and the consumption of sugary drinks for the children of this school, at a level of 5% significance. The results are in the following table: \n",
    "\n",
    "![](table4.png)"
   ]
  },
  {
   "cell_type": "code",
   "execution_count": 11,
   "metadata": {},
   "outputs": [
    {
     "data": {
      "text/plain": [
       "(10.712198008709638,\n",
       " 0.09768908598416433,\n",
       " 6,\n",
       " array([[24.08421053, 19.91578947, 44.        ],\n",
       "        [19.70526316, 16.29473684, 36.        ],\n",
       "        [ 8.21052632,  6.78947368, 15.        ],\n",
       "        [52.        , 43.        , 95.        ]]))"
      ]
     },
     "execution_count": 11,
     "metadata": {},
     "output_type": "execute_result"
    }
   ],
   "source": [
    "#defining patterns of AF for both Yes and No sugary drinks consumption:\n",
    "\n",
    "Low = np.array([32, 12, 44])\n",
    "Mid = np.array([14, 22, 36])\n",
    "High = np.array([6, 9, 15])\n",
    "TOT = np.array([52, 43, 95])\n",
    "sugar = [\"Sugar\", \"No-Sugar\", \"TOT\"]\n",
    "AF = [\"L\", \"M\", \"H\", \"TOT\"]\n",
    "\n",
    "tab = pd.DataFrame((Low,Mid,High,TOT),index = AF, columns = sugar)\n",
    "stats.chi2_contingency(tab)\n",
    "\n",
    "#We reject H0 at a CI of 95%, but not at a CI of 99%, so we reject the assumption that there is an association between the 2 patterns."
   ]
  }
 ],
 "metadata": {
  "kernelspec": {
   "display_name": "Python 3",
   "language": "python",
   "name": "python3"
  },
  "language_info": {
   "codemirror_mode": {
    "name": "ipython",
    "version": 3
   },
   "file_extension": ".py",
   "mimetype": "text/x-python",
   "name": "python",
   "nbconvert_exporter": "python",
   "pygments_lexer": "ipython3",
   "version": "3.7.6"
  }
 },
 "nbformat": 4,
 "nbformat_minor": 2
}
